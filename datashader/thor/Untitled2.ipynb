{
 "cells": [
  {
   "cell_type": "code",
   "execution_count": null,
   "metadata": {},
   "outputs": [],
   "source": [
    "import pandas as pd\n",
    "from bokeh.plotting import figure, output_file, show\n",
    "from bokeh.models import ColumnDataSource, Range1d\n",
    "from bokeh.layouts import layout\n",
    "from bokeh.palettes import Spectral3\n",
    "from bokeh.tile_providers import get_provider(Vendors.CARTODBPOSITRON)\n",
    "from pyproj import Proj, transform\n",
    "output_file('mapping_targets.html')\n",
    "\n",
    "#helper function to convert lat/long to easting/northing for mapping\n",
    "#this relies on functions from the pyproj library\n",
    "def LongLat_to_EN(long, lat):\n",
    "    try:\n",
    "      easting, northing = transform(\n",
    "        Proj(init='epsg:4326'), Proj(init='epsg:3857'), long, lat)\n",
    "      return easting, northing\n",
    "    except:\n",
    "      return None, None\n",
    "\n",
    "df = pd.read_csv('data/thor_wwii.csv')\n",
    "#helper to convert all lat/long to webmercator and stores in new column\n",
    "df['E'], df['N'] = df.apply(lambda x: LongLat_to_EN(x['TGT_LONGITUDE'], x['TGT_LATITUDE']), axis=1)"
   ]
  }
 ],
 "metadata": {
  "kernelspec": {
   "display_name": "Python 2",
   "language": "python",
   "name": "python2"
  },
  "language_info": {
   "codemirror_mode": {
    "name": "ipython",
    "version": 2
   },
   "file_extension": ".py",
   "mimetype": "text/x-python",
   "name": "python",
   "nbconvert_exporter": "python",
   "pygments_lexer": "ipython2",
   "version": "2.7.16"
  }
 },
 "nbformat": 4,
 "nbformat_minor": 2
}
