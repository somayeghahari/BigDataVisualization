{
 "cells": [
  {
   "cell_type": "code",
   "execution_count": 1,
   "metadata": {},
   "outputs": [],
   "source": [
    "#column_datasource.py\n",
    "import pandas as pd\n",
    "from bokeh.plotting import figure, output_file, show\n",
    "from bokeh.models import ColumnDataSource\n",
    "from bokeh.models.tools import HoverTool\n",
    "from datetime import datetime\n",
    "\n",
    "output_file('columndatasource_example.html')\n",
    "\n",
    "df = pd.read_csv('thor_wwii.csv')\n",
    "\n",
    "sample = df.sample(178281)\n",
    "source = ColumnDataSource(sample)\n",
    "\n",
    "p = figure()\n",
    "p.circle(x='TOTAL_TONS', y='AC_ATTACKING',\n",
    "         source=source,\n",
    "         size=10, color='green')\n",
    "\n",
    "p.title.text = 'Attacking Aircraft and Munitions Dropped'\n",
    "p.xaxis.axis_label = 'Tons of Munitions Dropped'\n",
    "p.yaxis.axis_label = 'Number of Attacking Aircraft'\n",
    "\n",
    "hover = HoverTool()\n",
    "hover.tooltips=[\n",
    "    ('Attack Date', '@MSNDATE'),\n",
    "    ('Attacking Aircraft', '@AC_ATTACKING'),\n",
    "    ('Tons of Munitions', '@TOTAL_TONS'),\n",
    "    ('Type of Aircraft', '@AIRCRAFT_NAME')\n",
    "]\n",
    "\n",
    "p.add_tools(hover)\n",
    "\n",
    "show(p)\n",
    "\n",
    "# code to speed test\n",
    "\n",
    "tend = datetime.now()\n",
    "print (tend - tstart)\n",
    "\n"
   ]
  },
  {
   "cell_type": "code",
   "execution_count": null,
   "metadata": {},
   "outputs": [],
   "source": []
  }
 ],
 "metadata": {
  "kernelspec": {
   "display_name": "Python 3",
   "language": "python",
   "name": "python3"
  },
  "language_info": {
   "codemirror_mode": {
    "name": "ipython",
    "version": 3
   },
   "file_extension": ".py",
   "mimetype": "text/x-python",
   "name": "python",
   "nbconvert_exporter": "python",
   "pygments_lexer": "ipython3",
   "version": "3.7.1"
  }
 },
 "nbformat": 4,
 "nbformat_minor": 2
}
